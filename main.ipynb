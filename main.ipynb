{
 "cells": [
  {
   "cell_type": "code",
   "execution_count": 62,
   "metadata": {},
   "outputs": [],
   "source": [
    "# Import libraries\n",
    "import numpy as np\n",
    "import pandas as pd\n",
    "import matplotlib.pyplot as plt\n",
    "import seaborn as sns\n",
    "import logging\n",
    "import time\n",
    "\n",
    "from sklearn.model_selection import train_test_split\n",
    "from sklearn.metrics import accuracy_score, confusion_matrix, classification_report\n",
    "\n",
    "import torch\n",
    "import torch.nn as nn\n",
    "import torch.optim as optim\n",
    "from torch.utils.data import DataLoader, TensorDataset\n"
   ]
  },
  {
   "cell_type": "code",
   "execution_count": 50,
   "metadata": {},
   "outputs": [
    {
     "name": "stderr",
     "output_type": "stream",
     "text": [
      "2024-09-16 10:04:29,345 - INFO - Using device: cpu\n"
     ]
    },
    {
     "data": {
      "text/plain": [
       "<torch._C.Generator at 0x26f7fe64d10>"
      ]
     },
     "execution_count": 50,
     "metadata": {},
     "output_type": "execute_result"
    }
   ],
   "source": [
    "## Set up logging, device and seed\n",
    "logging.basicConfig(level=logging.INFO, format='%(asctime)s - %(levelname)s - %(message)s')\n",
    "logger = logging.getLogger()\n",
    "logger.setLevel(logging.INFO)\n",
    "\n",
    "\n",
    "device = torch.device('cuda' if torch.cuda.is_available() else 'cpu')\n",
    "logger.info(f\"Using device: {device}\")\n",
    "\n",
    "seed = 69\n",
    "torch.manual_seed(seed)"
   ]
  },
  {
   "cell_type": "code",
   "execution_count": 28,
   "metadata": {},
   "outputs": [
    {
     "name": "stderr",
     "output_type": "stream",
     "text": [
      "2024-09-16 09:45:40,730 - INFO - Data loaded successfully\n",
      "2024-09-16 09:45:40,732 - INFO - Original Training data shape: (20132, 160)\n",
      "2024-09-16 09:45:40,733 - INFO - Original Predication data shape: (5034, 159)\n",
      "2024-09-16 09:45:40,917 - INFO - Shape of Train data: (14092, 159)\n",
      "2024-09-16 09:45:40,919 - INFO - Shape of Validation data: (4046, 159)\n",
      "2024-09-16 09:45:40,921 - INFO - Shape of Test data: (1994, 159)\n"
     ]
    }
   ],
   "source": [
    "## Load and Preprocess Data\n",
    "\n",
    "train_data = pd.read_csv('train.csv')\n",
    "test_data = pd.read_csv('test.csv')\n",
    "codebook = pd.read_csv('codebook.csv')\n",
    "\n",
    "logger.info(\"Data loaded successfully\")\n",
    "logger.info(\"Original Training data shape: %s\", str(train_data.shape))\n",
    "logger.info(\"Original Predication data shape: %s\", str(test_data.shape))\n",
    "\n",
    "X = train_data.drop(columns=['target'])\n",
    "y = train_data['target']\n",
    "\n",
    "# Split data into training, validation, and test sets\n",
    "X_train, X_temp, y_train, Y_temp = train_test_split(X, y, test_size=0.3, random_state=seed)\n",
    "X_val, X_test, y_val, y_test = train_test_split(X_temp, Y_temp, test_size=0.33, random_state=seed)\n",
    "\n",
    "logger.info(\"Shape of Train data: %s\", str(X_train.shape))\n",
    "logger.info(\"Shape of Validation data: %s\", str(X_val.shape))\n",
    "logger.info(\"Shape of Test data: %s\", str(X_test.shape))\n",
    "\n",
    "# Normalize data?\n",
    "# TODO\n",
    "def normalize_data(data):\n",
    "    return (data - data.mean()) / data.std()\n",
    "\n",
    "\n",
    "# Convert to PyTorch tensors and move to device\n",
    "X_train_tensor = torch.tensor(X_train.values, dtype=torch.float32).to(device)\n",
    "y_train_tensor = torch.tensor(y_train.values, dtype=torch.float32).view(-1, 1).to(device)\n",
    "X_val_tensor = torch.tensor(X_val.values, dtype=torch.float32).to(device)\n",
    "y_val_tensor = torch.tensor(y_val.values, dtype=torch.float32).view(-1, 1).to(device)"
   ]
  },
  {
   "cell_type": "code",
   "execution_count": 52,
   "metadata": {},
   "outputs": [],
   "source": [
    "## Define the Neural Network\n",
    "\n",
    "# hier hebben we echt veel opties, dus ik heb simpele ffn gekopieerd van deep learning course\n",
    "\n",
    "class FeedforwardNN(nn.Module):\n",
    "    def __init__(self, input_dim):\n",
    "        super(FeedforwardNN, self).__init__()\n",
    "        self.fc1 = nn.Linear(input_dim, 64)\n",
    "        self.fc2 = nn.Linear(64, 32)\n",
    "        self.fc3 = nn.Linear(32, 1)\n",
    "        self.sigmoid = nn.Sigmoid()\n",
    "        \n",
    "    def forward(self, x):\n",
    "        x = torch.relu(self.fc1(x))\n",
    "        x = torch.relu(self.fc2(x))\n",
    "        x = self.fc3(x)\n",
    "        x = self.sigmoid(x)\n",
    "        return x\n",
    "    \n",
    "\n",
    "# Large neural network with dropout and batch normalization\n",
    "# \"what do you mean it overfits lol\"\n",
    "class LargeNN(nn.Module):\n",
    "    def __init__(self, input_dim, dropout=0.2):\n",
    "        super(LargeNN, self).__init__()\n",
    "        self.fc1 = nn.Linear(input_dim, 256)\n",
    "        self.bn1 = nn.BatchNorm1d(256)\n",
    "        self.fc2 = nn.Linear(256, 128)\n",
    "        self.bn2 = nn.BatchNorm1d(128)\n",
    "        self.fc3 = nn.Linear(128, 64)\n",
    "        self.bn3 = nn.BatchNorm1d(64)\n",
    "        self.fc4 = nn.Linear(64, 32)\n",
    "        self.bn4 = nn.BatchNorm1d(32)\n",
    "        self.fc5 = nn.Linear(32, 1)\n",
    "        self.sigmoid = nn.Sigmoid()\n",
    "        self.dropout = nn.Dropout(dropout)\n",
    "        \n",
    "    def forward(self, x):\n",
    "        x = torch.relu(self.bn1(self.fc1(x)))\n",
    "        if x is None:\n",
    "            logger.debug(\"Error after fc1 and bn1\")\n",
    "        \n",
    "        x = self.dropout(x)\n",
    "        x = torch.relu(self.bn2(self.fc2(x)))\n",
    "        if x is None:\n",
    "            logger.debug(\"Error after fc2 and bn2\")\n",
    "        \n",
    "        x = self.dropout(x)\n",
    "        x = torch.relu(self.bn3(self.fc3(x)))\n",
    "        if x is None:\n",
    "            logger.debug(\"Error after fc3 and bn3\")\n",
    "        \n",
    "        x = self.dropout(x)\n",
    "        x = torch.relu(self.bn4(self.fc4(x)))\n",
    "        if x is None:\n",
    "            logger.debug(\"Error after fc4 and bn4\")\n",
    "        \n",
    "        x = self.dropout(x)\n",
    "        x = self.fc5(x)\n",
    "        if x is None:\n",
    "            logger.debug(\"Error after fc5\")\n",
    "        \n",
    "        x = self.sigmoid(x)\n",
    "        return x\n"
   ]
  },
  {
   "cell_type": "code",
   "execution_count": 59,
   "metadata": {},
   "outputs": [],
   "source": [
    "# Define hyperparameters\n",
    "batch_size = 64\n",
    "nEpochs = 10 # deze sws wel omhoog maar ff voor snelheid nu :)\n",
    "learning_rate = 0.001\n",
    "\n",
    "# Create DataLoaders\n",
    "train_dataset = TensorDataset(X_train_tensor, y_train_tensor)\n",
    "train_loader = DataLoader(train_dataset, batch_size=batch_size, shuffle=True)\n",
    "val_dataset = TensorDataset(X_val_tensor, y_val_tensor)\n",
    "val_loader = DataLoader(val_dataset, batch_size=batch_size, shuffle=False)\n",
    "\n",
    "\n",
    "# Initialize model, loss function, and optimizer\n",
    "input_dim = X_train.shape[1]\n",
    "# model = FeedforwardNN(input_dim).to(device)\n",
    "model = LargeNN(input_dim).to(device)\n",
    "criterion = nn.BCELoss()\n",
    "optimizer = optim.Adam(model.parameters(), lr=learning_rate)"
   ]
  },
  {
   "cell_type": "code",
   "execution_count": 60,
   "metadata": {},
   "outputs": [],
   "source": [
    "## Define the training and evaluation functions\n",
    "def train_model(model, criterion, optimizer, train_loader, val_loader, num_epochs=10, print_every=1):\n",
    "    train_accuracies = []\n",
    "    val_accuracies = []\n",
    "\n",
    "    start_time = time.time()\n",
    "\n",
    "    model.train()\n",
    "    for epoch in range(num_epochs):\n",
    "        running_loss = 0.0\n",
    "        correct_preds = 0\n",
    "        total_preds = 0\n",
    "        \n",
    "        # Training loop\n",
    "        for inputs, labels in train_loader:\n",
    "            inputs, labels = inputs.to(device), labels.to(device)\n",
    "            # labels = labels.view(-1, 1)\n",
    "            optimizer.zero_grad()\n",
    "            outputs = model(inputs)\n",
    "\n",
    "            logger.debug(f\"Model output shape: {outputs.shape}\")\n",
    "            logger.debug(f\"Label shape: {labels.shape}\")\n",
    "\n",
    "            loss = criterion(outputs, labels)\n",
    "            loss.backward()\n",
    "            optimizer.step()\n",
    "            \n",
    "            running_loss += loss.item() * inputs.size(0)\n",
    "            preds = (outputs > 0.5).float()\n",
    "            correct_preds += (preds == labels).sum().item()\n",
    "            total_preds += labels.size(0)\n",
    "        \n",
    "        # Calculate training accuracy for this epoch\n",
    "        train_accuracy = correct_preds / total_preds\n",
    "        train_accuracies.append(train_accuracy)\n",
    "        \n",
    "        # Validation accuracy at the end of each epoch\n",
    "        val_preds, val_labels = evaluate_model(model, val_loader)\n",
    "        val_accuracy = accuracy_score(val_labels, val_preds)\n",
    "        val_accuracies.append(val_accuracy)\n",
    "        \n",
    "        epoch_loss = running_loss / len(train_loader.dataset)\n",
    "\n",
    "        if (epoch + 1) % print_every == 0:\n",
    "            logger.info(f'Epoch {epoch+1}/{num_epochs}, Loss: {epoch_loss:.4f}, Train Accuracy: {train_accuracy:.4f}, Validation Accuracy: {val_accuracy:.4f}, Time elapsed: {time.time() - start_time:.2f}s')\n",
    "\n",
    "    logger.info(f'Training complete. Total time elapsed: {time.strftime(\"%H:%M:%S\", time.gmtime(time.time() - start_time))}')\n",
    "    \n",
    "    return train_accuracies, val_accuracies\n",
    "\n",
    "        \n",
    "def evaluate_model(model, data_loader):\n",
    "    model.eval()\n",
    "    all_preds = []\n",
    "    all_labels = []\n",
    "    with torch.no_grad():\n",
    "        for inputs, labels in data_loader:\n",
    "            inputs, labels = inputs.to(device), labels.to(device)\n",
    "            outputs = model(inputs)\n",
    "            preds = (outputs > 0.5).float()\n",
    "            all_preds.extend(preds.cpu().numpy())\n",
    "            all_labels.extend(labels.cpu().numpy())\n",
    "    return np.array(all_preds).flatten(), np.array(all_labels).flatten()\n"
   ]
  },
  {
   "cell_type": "code",
   "execution_count": 63,
   "metadata": {},
   "outputs": [
    {
     "name": "stderr",
     "output_type": "stream",
     "text": [
      "2024-09-16 10:16:37,921 - INFO - Epoch 1/10, Loss: 0.5498, Train Accuracy: 0.7581, Validation Accuracy: 0.7899, Time elapsed: 2.26s\n",
      "2024-09-16 10:16:40,216 - INFO - Epoch 2/10, Loss: 0.5023, Train Accuracy: 0.7896, Validation Accuracy: 0.7897, Time elapsed: 4.56s\n",
      "2024-09-16 10:16:42,251 - INFO - Epoch 3/10, Loss: 0.4940, Train Accuracy: 0.7897, Validation Accuracy: 0.7899, Time elapsed: 6.59s\n",
      "2024-09-16 10:16:44,574 - INFO - Epoch 4/10, Loss: 0.4860, Train Accuracy: 0.7897, Validation Accuracy: 0.7902, Time elapsed: 8.91s\n",
      "2024-09-16 10:16:46,575 - INFO - Epoch 5/10, Loss: 0.4823, Train Accuracy: 0.7900, Validation Accuracy: 0.7899, Time elapsed: 10.91s\n",
      "2024-09-16 10:16:48,986 - INFO - Epoch 6/10, Loss: 0.4746, Train Accuracy: 0.7902, Validation Accuracy: 0.7872, Time elapsed: 13.33s\n",
      "2024-09-16 10:16:51,070 - INFO - Epoch 7/10, Loss: 0.4668, Train Accuracy: 0.7915, Validation Accuracy: 0.7902, Time elapsed: 15.41s\n",
      "2024-09-16 10:16:53,124 - INFO - Epoch 8/10, Loss: 0.4579, Train Accuracy: 0.7940, Validation Accuracy: 0.7793, Time elapsed: 17.46s\n",
      "2024-09-16 10:16:55,502 - INFO - Epoch 9/10, Loss: 0.4469, Train Accuracy: 0.8003, Validation Accuracy: 0.7847, Time elapsed: 19.84s\n",
      "2024-09-16 10:16:57,371 - INFO - Epoch 10/10, Loss: 0.4391, Train Accuracy: 0.8022, Validation Accuracy: 0.7778, Time elapsed: 21.71s\n",
      "2024-09-16 10:16:57,372 - INFO - Training complete. Total time elapsed: 00:00:21\n"
     ]
    },
    {
     "data": {
      "image/png": "[encoded data removed]",
      "text/plain": [
       "<Figure size 640x480 with 1 Axes>"
      ]
     },
     "metadata": {},
     "output_type": "display_data"
    }
   ],
   "source": [
    "def plot_accuracies(train_accuracies, val_accuracies):\n",
    "    epochs = range(1, len(train_accuracies) + 1)\n",
    "    \n",
    "    plt.plot(epochs, train_accuracies, 'bo-', label='Training accuracy')\n",
    "    plt.plot(epochs, val_accuracies, 'ro-', label='Validation accuracy')\n",
    "    \n",
    "    plt.title('Training and Validation Accuracy over Epochs')\n",
    "    plt.xlabel('Epochs')\n",
    "    plt.ylabel('Accuracy')\n",
    "    plt.legend()\n",
    "    \n",
    "    plt.show()\n",
    "\n",
    "\n",
    "# Train the model\n",
    "train_accuracies, val_accuracies = train_model(model, criterion, optimizer, train_loader, val_loader, num_epochs=nEpochs)\n",
    "\n",
    "# Plot the training and validation accuracy\n",
    "plot_accuracies(train_accuracies, val_accuracies)"
   ]
  },
  {
   "cell_type": "code",
   "execution_count": 64,
   "metadata": {},
   "outputs": [
    {
     "name": "stderr",
     "output_type": "stream",
     "text": [
      "2024-09-16 10:18:33,936 - INFO - Validation Accuracy: 0.7778\n",
      "2024-09-16 10:18:34,025 - INFO - Test Accuracy: 0.7758\n",
      "2024-09-16 10:18:34,038 - INFO - Classification Report:\n",
      "              precision    recall  f1-score   support\n",
      "\n",
      "         0.0       0.80      0.96      0.87      1573\n",
      "         1.0       0.35      0.07      0.12       421\n",
      "\n",
      "    accuracy                           0.78      1994\n",
      "   macro avg       0.57      0.52      0.50      1994\n",
      "weighted avg       0.70      0.78      0.71      1994\n",
      "\n"
     ]
    },
    {
     "data": {
      "image/png": "[encoded data removed]",
      "text/plain": [
       "<Figure size 640x480 with 2 Axes>"
      ]
     },
     "metadata": {},
     "output_type": "display_data"
    }
   ],
   "source": [
    "def plot_confusion_matrix(y_true, y_pred):\n",
    "    cm = confusion_matrix(y_true, y_pred)\n",
    "    sns.heatmap(cm, annot=True, fmt='d', cmap='Blues')\n",
    "    plt.xlabel('Predicted')\n",
    "    plt.ylabel('True')\n",
    "    plt.title('Confusion Matrix')\n",
    "    plt.show()\n",
    "\n",
    "# Prepare test data\n",
    "X_test_tensor = torch.tensor(X_test.values, dtype=torch.float32).to(device)\n",
    "y_test_tensor = torch.tensor(y_test.values, dtype=torch.float32).view(-1, 1).to(device)\n",
    "test_dataset = TensorDataset(X_test_tensor, y_test_tensor)\n",
    "test_loader = DataLoader(test_dataset, batch_size=batch_size, shuffle=False)\n",
    "\n",
    "# Evaluate on validation set\n",
    "val_preds, val_labels = evaluate_model(model, val_loader)\n",
    "logger.info(f\"Validation Accuracy: {accuracy_score(val_labels, val_preds):.4f}\")\n",
    "\n",
    "# Evaluate on test set\n",
    "test_preds, test_labels = evaluate_model(model, test_loader)\n",
    "logger.info(f\"Test Accuracy: {accuracy_score(test_labels, test_preds):.4f}\")\n",
    "\n",
    "# Print classification report\n",
    "logger.info(f\"Classification Report:\\n{classification_report(test_labels, test_preds)}\")\n",
    "\n",
    "# Plot confusion matrix for test set\n",
    "plot_confusion_matrix(test_labels, test_preds)\n"
   ]
  },
  {
   "cell_type": "code",
   "execution_count": null,
   "metadata": {},
   "outputs": [],
   "source": [
    "# Hier nog ff wat toevoegen zodat ons model ook de test data kan voorspellen en in predictions.txt zet"
   ]
  }
 ],
 "metadata": {
  "kernelspec": {
   "display_name": "Python 3",
   "language": "python",
   "name": "python3"
  },
  "language_info": {
   "codemirror_mode": {
    "name": "ipython",
    "version": 3
   },
   "file_extension": ".py",
   "mimetype": "text/x-python",
   "name": "python",
   "nbconvert_exporter": "python",
   "pygments_lexer": "ipython3",
   "version": "3.12.4"
  }
 },
 "nbformat": 4,
 "nbformat_minor": 2
}
